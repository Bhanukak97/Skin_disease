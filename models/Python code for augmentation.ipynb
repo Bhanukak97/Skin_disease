{
 "cells": [
  {
   "cell_type": "code",
   "execution_count": 6,
   "id": "1acbfc59",
   "metadata": {},
   "outputs": [
    {
     "name": "stdout",
     "output_type": "stream",
     "text": [
      "Collecting imutils\n",
      "  Downloading imutils-0.5.4.tar.gz (17 kB)\n",
      "  Preparing metadata (setup.py): started\n",
      "  Preparing metadata (setup.py): finished with status 'done'\n",
      "Building wheels for collected packages: imutils\n",
      "  Building wheel for imutils (setup.py): started\n",
      "  Building wheel for imutils (setup.py): finished with status 'done'\n",
      "  Created wheel for imutils: filename=imutils-0.5.4-py3-none-any.whl size=25847 sha256=030d8c9dc9904d837174fdf355c43225d3b067e595b27be095a7526985747ce6\n",
      "  Stored in directory: c:\\users\\admin\\appdata\\local\\pip\\cache\\wheels\\4b\\a5\\2d\\4a070a801d3a3d93f033d3ee9728f470f514826e89952df3ea\n",
      "Successfully built imutils\n",
      "Installing collected packages: imutils\n",
      "Successfully installed imutils-0.5.4\n",
      "Note: you may need to restart the kernel to use updated packages.\n"
     ]
    }
   ],
   "source": [
    "#run this\n",
    "pip install --upgrade imutils"
   ]
  },
  {
   "cell_type": "code",
   "execution_count": 8,
   "id": "9479634a",
   "metadata": {},
   "outputs": [
    {
     "name": "stdout",
     "output_type": "stream",
     "text": [
      "Requirement already satisfied: opencv-python in c:\\users\\admin\\anaconda3\\lib\\site-packages (4.7.0.72)\n",
      "Requirement already satisfied: numpy>=1.17.3 in c:\\users\\admin\\anaconda3\\lib\\site-packages (from opencv-python) (1.21.5)\n",
      "Note: you may need to restart the kernel to use updated packages.\n"
     ]
    }
   ],
   "source": [
    "#run this\n",
    "pip install opencv-python"
   ]
  },
  {
   "cell_type": "code",
   "execution_count": 19,
   "id": "238fd025",
   "metadata": {},
   "outputs": [],
   "source": [
    "import os\n",
    "# Function to rename multiple files\n",
    "def main():\n",
    "   i = 1\n",
    "   path=\"C:/Users/admin/Desktop/MyDC/First Semester/AIDI1003-Capstone/Final-Project/Dataset/new/\"\n",
    "   for filename in os.listdir(path):\n",
    "      my_dest =str(i)+\"_n\" + \".jpg\"\n",
    "      my_source =path + filename\n",
    "      my_dest =path + my_dest\n",
    "      # rename() function will\n",
    "      # rename all the files\n",
    "      os.rename(my_source, my_dest)\n",
    "      i += 1\n",
    "# Driver Code\n",
    "if __name__ == '__main__':\n",
    "   # Calling main() function\n",
    "   main()"
   ]
  },
  {
   "cell_type": "code",
   "execution_count": 4,
   "id": "e270c461",
   "metadata": {},
   "outputs": [],
   "source": [
    "import cv2, os\n",
    "folder = 'C:/Users/admin/Desktop/MyDC/First Semester/AIDI1003-Capstone/Final-Project/Dataset/Normal'\n",
    "outfolder = 'C:/Users/admin/Desktop/MyDC/First Semester/AIDI1003-Capstone/Final-Project/Dataset/new'\n",
    "images = os.listdir(folder)\n",
    "for i in images:\n",
    "     fname = \"\\\\\".join([folder, i])\n",
    "     img = cv2.imread(fname)\n",
    "     #H, W = img.shape[:2]\n",
    "     #aspect = W/(H*1.0)\n",
    "     h = 224\n",
    "     w = 224\n",
    "     resized = cv2.resize(img, (int(w), int(h)))\n",
    "     cv2.imwrite('\\\\'.join([outfolder,i]), resized)"
   ]
  },
  {
   "cell_type": "code",
   "execution_count": 17,
   "id": "be48b8e8",
   "metadata": {},
   "outputs": [],
   "source": [
    "import cv2, os\n",
    "import numpy as np\n",
    "from PIL import Image\n",
    "import imutils\n",
    "\n",
    "folder = 'C:/Users/admin/Desktop/MyDC/First Semester/AIDI1003-Capstone/Final-Project/Dataset/Normal'\n",
    "outfolder = 'C:/Users/admin/Desktop/MyDC/First Semester/AIDI1003-Capstone/Final-Project/Dataset/new'\n",
    "images = os.listdir(folder)\n",
    "\n",
    "for i in images:\n",
    "     fname = \"\\\\\".join([folder, i])\n",
    "     img = cv2.imread(fname)\n",
    "     #rotate_img= imutils.rotate(img, angle=45)\n",
    "     #rotate_img= imutils.rotate(img, angle=135)\n",
    "     #rotate_img= imutils.rotate(img, angle=225)\n",
    "     rotate_img= imutils.rotate(img, angle=270)\n",
    "     cv2.imwrite('\\\\'.join([outfolder,i]), rotate_img)"
   ]
  },
  {
   "cell_type": "code",
   "execution_count": null,
   "id": "866328fd",
   "metadata": {},
   "outputs": [],
   "source": []
  }
 ],
 "metadata": {
  "kernelspec": {
   "display_name": "Python 3 (ipykernel)",
   "language": "python",
   "name": "python3"
  },
  "language_info": {
   "codemirror_mode": {
    "name": "ipython",
    "version": 3
   },
   "file_extension": ".py",
   "mimetype": "text/x-python",
   "name": "python",
   "nbconvert_exporter": "python",
   "pygments_lexer": "ipython3",
   "version": "3.9.13"
  }
 },
 "nbformat": 4,
 "nbformat_minor": 5
}
